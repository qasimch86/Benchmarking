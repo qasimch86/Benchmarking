{
 "cells": [
  {
   "cell_type": "code",
   "execution_count": 1,
   "metadata": {},
   "outputs": [],
   "source": [
    "import re\n",
    "\n",
    "def simple_tokenize(text):\n",
    "    return re.findall(r'\\b\\w+\\b', text.lower())"
   ]
  },
  {
   "cell_type": "code",
   "execution_count": 15,
   "metadata": {},
   "outputs": [
    {
     "name": "stdout",
     "output_type": "stream",
     "text": [
      "Time taken: 0.5603780746459961 seconds\n"
     ]
    }
   ],
   "source": [
    "import time\n",
    "\n",
    "text = \"This is a simple example of tokenization in natural language processing. Let's see how it performs.\"\n",
    "\n",
    "start_time = time.time()\n",
    "tokens = simple_tokenize(100000*text)\n",
    "end_time = time.time()\n",
    "\n",
    "print(f\"Time taken: round({end_time - start_time},4) s\")"
   ]
  },
  {
   "cell_type": "code",
   "execution_count": 12,
   "metadata": {},
   "outputs": [],
   "source": [
    "import re\n",
    "\n",
    "word_pattern = re.compile(r'\\b\\w+\\b')\n",
    "\n",
    "def optimized_tokenize(text):\n",
    "    return word_pattern.findall(text.lower())"
   ]
  },
  {
   "cell_type": "code",
   "execution_count": 14,
   "metadata": {},
   "outputs": [
    {
     "name": "stdout",
     "output_type": "stream",
     "text": [
      "Time taken: 0.6047658920288086 seconds\n"
     ]
    }
   ],
   "source": [
    "start_time = time.time()\n",
    "tokens = optimized_tokenize(100000*text)\n",
    "end_time = time.time()\n",
    "\n",
    "print(f\"Time taken: round({end_time - start_time},4) s\")"
   ]
  },
  {
   "cell_type": "code",
   "execution_count": null,
   "metadata": {},
   "outputs": [],
   "source": []
  }
 ],
 "metadata": {
  "kernelspec": {
   "display_name": "Python 3",
   "language": "python",
   "name": "python3"
  },
  "language_info": {
   "codemirror_mode": {
    "name": "ipython",
    "version": 3
   },
   "file_extension": ".py",
   "mimetype": "text/x-python",
   "name": "python",
   "nbconvert_exporter": "python",
   "pygments_lexer": "ipython3",
   "version": "3.8.5"
  }
 },
 "nbformat": 4,
 "nbformat_minor": 4
}
