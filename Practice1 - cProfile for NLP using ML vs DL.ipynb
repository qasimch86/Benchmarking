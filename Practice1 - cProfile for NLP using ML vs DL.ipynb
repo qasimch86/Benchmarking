{
 "cells": [
  {
   "cell_type": "code",
   "execution_count": null,
   "metadata": {},
   "outputs": [],
   "source": [
    "import cProfile\n",
    "import pandas as pd\n",
    "import spacy\n",
    "\n",
    "# Sample text data\n",
    "data = pd.DataFrame({'text': ['This is a sample sentence.', 'Another sentence for profiling.', 'NLP is interesting.']})\n",
    "\n",
    "# Load a pre-trained spaCy model for NLP tasks\n",
    "nlp = spacy.load(\"en_core_web_sm\")\n",
    "\n",
    "# NLP processing function\n",
    "def process_text(text):\n",
    "    doc = nlp(text)\n",
    "    tokens = [token.text for token in doc if not token.is_stop]\n",
    "    lemmas = [token.lemma_ for token in doc]\n",
    "    return tokens, lemmas\n",
    "\n",
    "# Profiling NLP Processing\n",
    "def profile_nlp_processing(data):\n",
    "    tokens_list = []\n",
    "    lemmas_list = []\n",
    "\n",
    "    for text in data['text']:\n",
    "        tokens, lemmas = process_text(text)\n",
    "        tokens_list.append(tokens)\n",
    "        lemmas_list.append(lemmas)\n",
    "\n",
    "    return tokens_list, lemmas_list\n",
    "\n",
    "# Profile NLP processing using cProfile\n",
    "cProfile.run(\"profile_nlp_processing(data)\")\n",
    "\n",
    "# Analyze the profiling results and identify areas for optimization.\n"
   ]
  }
 ],
 "metadata": {
  "kernelspec": {
   "display_name": "Python 3",
   "language": "python",
   "name": "python3"
  },
  "language_info": {
   "codemirror_mode": {
    "name": "ipython",
    "version": 3
   },
   "file_extension": ".py",
   "mimetype": "text/x-python",
   "name": "python",
   "nbconvert_exporter": "python",
   "pygments_lexer": "ipython3",
   "version": "3.8.5"
  }
 },
 "nbformat": 4,
 "nbformat_minor": 4
}
