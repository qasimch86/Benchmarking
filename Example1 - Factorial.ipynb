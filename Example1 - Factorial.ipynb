{
 "cells": [
  {
   "cell_type": "code",
   "execution_count": 1,
   "metadata": {},
   "outputs": [],
   "source": [
    "# Method 1: Recursive function without memoization\n",
    "def factorial_recursive(n):\n",
    "    if n == 0:\n",
    "        return 1\n",
    "    return n * factorial_recursive(n - 1)"
   ]
  },
  {
   "cell_type": "code",
   "execution_count": 2,
   "metadata": {},
   "outputs": [],
   "source": [
    "# Method 2: Iterative function without memoization\n",
    "def factorial_iterative(n):\n",
    "    result = 1\n",
    "    for i in range(1, n + 1):\n",
    "        result *= i\n",
    "    return result"
   ]
  },
  {
   "cell_type": "code",
   "execution_count": 8,
   "metadata": {},
   "outputs": [],
   "source": [
    "# Method 3: Iterative function with memoization\n",
    "def factorial_iterative_memoization(n):\n",
    "    memo = {}  # Initialize a dictionary to store intermediate results\n",
    "    result = 1\n",
    "    for i in range(1, n + 1):\n",
    "        if i in memo:\n",
    "            result *= memo[i]\n",
    "        else:\n",
    "            result *= i\n",
    "            memo[i] = result\n",
    "    return result"
   ]
  },
  {
   "cell_type": "code",
   "execution_count": 3,
   "metadata": {},
   "outputs": [],
   "source": [
    "# Method 4: Recursive function with memoization\n",
    "def factorial_memoization(n, memo={}):\n",
    "    if n in memo:\n",
    "        return memo[n]\n",
    "    if n == 0:\n",
    "        return 1\n",
    "    result = n * factorial_memoization(n - 1)\n",
    "    memo[n] = result\n",
    "    return result"
   ]
  },
  {
   "cell_type": "code",
   "execution_count": 31,
   "metadata": {},
   "outputs": [
    {
     "name": "stdout",
     "output_type": "stream",
     "text": [
      "Method 1: Recursive function without memoization: 0.17819499969482422 s\n",
      "\n",
      "Method 2: Iterative function without memoization: 0.09665894508361816 s\n",
      "\n",
      "Method 3: Iterative function with memoization: 0.13762712478637695 s\n",
      "\n",
      "Method 4: Recursive function with memoization: 0.0004646778106689453 s\n"
     ]
    }
   ],
   "source": [
    "import time\n",
    "result_recursive,result_iterative,result_memoization=[],[],[]\n",
    "arr=range(1,1000) # array of size 1000\n",
    "\n",
    "#Recursive function without memoization\n",
    "start_time = time.time()\n",
    "for fact in arr:\n",
    "    result_recursive.append(factorial_recursive(fact))\n",
    "end_time = time.time()\n",
    "print(f\"Method 1: Recursive function without memoization: {end_time - start_time} s\")\n",
    "\n",
    "#Iterative function without memoization\n",
    "start_time = time.time()\n",
    "for fact in arr:\n",
    "    result_iterative.append(factorial_iterative(fact))\n",
    "end_time = time.time()\n",
    "print(f\"\\nMethod 2: Iterative function without memoization: {end_time - start_time} s\")\n",
    "\n",
    "#Iterative function with memoization\n",
    "start_time = time.time()\n",
    "for fact in arr:\n",
    "    result_iterative.append(factorial_iterative_memoization(fact))\n",
    "end_time = time.time()\n",
    "print(f\"\\nMethod 3: Iterative function with memoization: {end_time - start_time} s\")\n",
    "\n",
    "#Recursive function with memoization\n",
    "start_time = time.time()\n",
    "for fact in arr:\n",
    "    result_memoization.append(factorial_memoization(fact))\n",
    "end_time = time.time()\n",
    "print(f\"\\nMethod 4: Recursive function with memoization: {end_time - start_time} s\")\n"
   ]
  },
  {
   "cell_type": "code",
   "execution_count": 19,
   "metadata": {},
   "outputs": [
    {
     "data": {
      "text/plain": [
       "2962"
      ]
     },
     "execution_count": 19,
     "metadata": {},
     "output_type": "execute_result"
    }
   ],
   "source": [
    "fact"
   ]
  },
  {
   "cell_type": "code",
   "execution_count": null,
   "metadata": {},
   "outputs": [],
   "source": []
  }
 ],
 "metadata": {
  "kernelspec": {
   "display_name": "Python 3",
   "language": "python",
   "name": "python3"
  },
  "language_info": {
   "codemirror_mode": {
    "name": "ipython",
    "version": 3
   },
   "file_extension": ".py",
   "mimetype": "text/x-python",
   "name": "python",
   "nbconvert_exporter": "python",
   "pygments_lexer": "ipython3",
   "version": "3.8.5"
  }
 },
 "nbformat": 4,
 "nbformat_minor": 4
}
