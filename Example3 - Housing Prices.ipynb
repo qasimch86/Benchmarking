{
 "cells": [
  {
   "cell_type": "code",
   "execution_count": 12,
   "metadata": {},
   "outputs": [],
   "source": [
    "import numpy as np\n",
    "import pandas as pd\n",
    "\n",
    "# Create synthetic data\n",
    "n_samples = 10000\n",
    "data = {\n",
    "    'SquareFootage': np.random.randint(500, 2500, size=n_samples),\n",
    "    'Bedrooms': np.random.randint(1, 6, size=n_samples),\n",
    "    'Bathrooms': np.random.randint(1, 4, size=n_samples),\n",
    "    'Price': np.random.randint(100000, 500000, size=n_samples),\n",
    "}\n",
    "\n",
    "# Create a DataFrame\n",
    "df = pd.DataFrame(data)\n",
    "\n",
    "# Save the data to a CSV file\n",
    "df.to_csv('house_prices_data.csv', index=False)"
   ]
  },
  {
   "cell_type": "code",
   "execution_count": 13,
   "metadata": {},
   "outputs": [
    {
     "name": "stdout",
     "output_type": "stream",
     "text": [
      "Mean Squared Error (Linear Regression): 13225870339.051533\n"
     ]
    }
   ],
   "source": [
    "import numpy as np\n",
    "import pandas as pd\n",
    "from sklearn.model_selection import train_test_split\n",
    "from sklearn.linear_model import LinearRegression\n",
    "from sklearn.metrics import mean_squared_error\n",
    "\n",
    "# Load the dataset (e.g., from a CSV file)\n",
    "data = pd.read_csv('house_prices_data.csv')\n",
    "\n",
    "# Select features and target\n",
    "X = data[['SquareFootage', 'Bedrooms', 'Bathrooms']]\n",
    "y = data['Price']\n",
    "\n",
    "# Split the data into training and testing sets\n",
    "X_train, X_test, y_train, y_test = train_test_split(X, y, test_size=0.2, random_state=42)\n",
    "\n",
    "# Train the linear regression model\n",
    "lr_model = LinearRegression()\n",
    "lr_model.fit(X_train, y_train)\n",
    "\n",
    "# Make predictions on the test set\n",
    "lr_predictions = lr_model.predict(X_test)\n",
    "\n",
    "# Calculate the Mean Squared Error\n",
    "mse_lr = mean_squared_error(y_test, lr_predictions)\n",
    "print(f\"Mean Squared Error (Linear Regression): {mse_lr}\")\n"
   ]
  },
  {
   "cell_type": "code",
   "execution_count": 14,
   "metadata": {},
   "outputs": [
    {
     "name": "stdout",
     "output_type": "stream",
     "text": [
      "Mean Squared Error (Deep Learning): 13227992621.502937\n"
     ]
    }
   ],
   "source": [
    "import tensorflow as tf\n",
    "from tensorflow import keras\n",
    "from sklearn.preprocessing import StandardScaler\n",
    "\n",
    "# Feature scaling\n",
    "scaler = StandardScaler()\n",
    "X_train_scaled = scaler.fit_transform(X_train)\n",
    "X_test_scaled = scaler.transform(X_test)\n",
    "\n",
    "# Build a deep learning model\n",
    "deep_model = keras.Sequential([\n",
    "    keras.layers.Dense(64, activation='relu', input_shape=(3,)),\n",
    "    keras.layers.Dense(64, activation='relu'),\n",
    "    keras.layers.Dense(1)\n",
    "])\n",
    "\n",
    "deep_model.compile(optimizer='adam', loss='mean_squared_error')\n",
    "\n",
    "# Train the deep learning model\n",
    "deep_model.fit(X_train_scaled, y_train, epochs=100, batch_size=32, verbose=0)\n",
    "\n",
    "# Make predictions on the test set\n",
    "deep_predictions = deep_model.predict(X_test_scaled)\n",
    "\n",
    "# Calculate the Mean Squared Error\n",
    "mse_deep = mean_squared_error(y_test, deep_predictions)\n",
    "print(f\"Mean Squared Error (Deep Learning): {mse_deep}\")\n"
   ]
  },
  {
   "cell_type": "code",
   "execution_count": 17,
   "metadata": {},
   "outputs": [
    {
     "name": "stdout",
     "output_type": "stream",
     "text": [
      "Difference in MSE of LR from DL (MSE_DL - MSE_LR): 2122282.4514045715\n"
     ]
    }
   ],
   "source": [
    "print(f\"Difference in MSE of LR from DL (MSE_DL - MSE_LR): {mse_deep-mse_lr}\")"
   ]
  },
  {
   "cell_type": "code",
   "execution_count": null,
   "metadata": {},
   "outputs": [],
   "source": []
  }
 ],
 "metadata": {
  "kernelspec": {
   "display_name": "Python 3",
   "language": "python",
   "name": "python3"
  },
  "language_info": {
   "codemirror_mode": {
    "name": "ipython",
    "version": 3
   },
   "file_extension": ".py",
   "mimetype": "text/x-python",
   "name": "python",
   "nbconvert_exporter": "python",
   "pygments_lexer": "ipython3",
   "version": "3.8.5"
  }
 },
 "nbformat": 4,
 "nbformat_minor": 4
}
